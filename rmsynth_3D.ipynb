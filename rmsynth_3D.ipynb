{
 "cells": [
  {
   "cell_type": "code",
   "execution_count": null,
   "metadata": {},
   "outputs": [],
   "source": [
    "from astropy.io import fits\n",
    "from astropy.wcs import WCS\n",
    "import astropy.units as u\n",
    "from astropy.visualization import SqrtStretch, ImageNormalize, LinearStretch, quantity_support\n",
    "import numpy as np\n",
    "import matplotlib.pyplot as plt\n",
    "from RMtools_3D.do_RMsynth_3D import run_rmsynth\n",
    "from RMtools_3D.do_RMclean_3D import do_rmclean_hogbom\n",
    "import multiprocessing as mp\n",
    "_ = quantity_support()"
   ]
  },
  {
   "cell_type": "markdown",
   "metadata": {},
   "source": [
    "Load in the data using standard Astropy FITS"
   ]
  },
  {
   "cell_type": "code",
   "execution_count": null,
   "metadata": {},
   "outputs": [],
   "source": [
    "# Load the data\n",
    "data = {}\n",
    "for stokes in \"IQU\":\n",
    "    data[stokes] = {}\n",
    "    with fits.open(f\"POSSUM_M83/cutout-M83_{stokes}.fits\") as hdul:\n",
    "        data[stokes][\"data\"] = hdul[0].data.squeeze()\n",
    "        data[stokes][\"header\"] = hdul[0].header\n",
    "        data[stokes][\"wcs\"] = WCS(data[stokes][\"header\"])\n"
   ]
  },
  {
   "cell_type": "markdown",
   "metadata": {},
   "source": [
    "Visualise the data"
   ]
  },
  {
   "cell_type": "code",
   "execution_count": null,
   "metadata": {},
   "outputs": [],
   "source": [
    "# Plot the first channel of the data\n",
    "fig, ax = plt.subplots(1, 4, figsize=(15, 5), subplot_kw=dict(projection=data[\"I\"][\"wcs\"].celestial), sharex=True, sharey=True)\n",
    "\n",
    "for i, stokes in enumerate(\"IQU\"):\n",
    "    if stokes == \"I\":\n",
    "        norm = ImageNormalize(data[stokes][\"data\"][0], stretch=SqrtStretch())\n",
    "        cmap = \"magma\"\n",
    "    else:\n",
    "        norm = ImageNormalize(data[stokes][\"data\"][0], stretch=LinearStretch())\n",
    "        cmap = \"RdBu_r\"\n",
    "    ax[i].imshow(data[stokes][\"data\"][0], origin=\"lower\", cmap=cmap, norm=norm)\n",
    "    ax[i].set_title(stokes)\n",
    "    ax[i].set_xlabel(\"RA\")\n",
    "    ax[i].set_ylabel(\"Dec\")\n",
    "    ax[i].colorbar = fig.colorbar(ax[i].images[0], ax=ax[i], orientation=\"horizontal\")\n",
    "\n",
    "pol_int = np.hypot(data[\"Q\"][\"data\"][0], data[\"U\"][\"data\"][0])\n",
    "norm = ImageNormalize(pol_int, stretch=LinearStretch())\n",
    "cmap = \"magma\"\n",
    "ax[-1].imshow(\n",
    "    pol_int, origin=\"lower\", cmap=cmap, norm=norm\n",
    ")\n",
    "ax[-1].set_title(\"Polarized intensity\")\n",
    "ax[-1].set_xlabel(\"RA\")\n",
    "ax[-1].set_ylabel(\"Dec\")\n",
    "ax[-1].colorbar = fig.colorbar(ax[-1].images[0], ax=ax[-1], orientation=\"horizontal\")\n",
    "fig.tight_layout()"
   ]
  },
  {
   "cell_type": "code",
   "execution_count": null,
   "metadata": {},
   "outputs": [],
   "source": [
    "stokes_I_mean.shape"
   ]
  },
  {
   "cell_type": "code",
   "execution_count": null,
   "metadata": {},
   "outputs": [],
   "source": [
    "# Compute averages - NOT correct for polarisation...\n",
    "stokes_I_mean = np.nanmean(data[\"I\"][\"data\"], axis=0)\n",
    "stokes_Q_mean = np.nanmean(data[\"Q\"][\"data\"], axis=0)\n",
    "stokes_U_mean = np.nanmean(data[\"U\"][\"data\"], axis=0)\n",
    "pol_int_mean = np.hypot(stokes_Q_mean, stokes_U_mean)\n",
    "\n",
    "# Plot the mean data\n",
    "fig, ax = plt.subplots(1, 4, figsize=(15, 5), subplot_kw=dict(projection=data[\"I\"][\"wcs\"].celestial), sharex=True, sharey=True)\n",
    "ax[0].imshow(stokes_I_mean, origin=\"lower\", cmap=\"magma\", norm=ImageNormalize(stokes_I_mean, stretch=SqrtStretch()))\n",
    "ax[0].set_title(\"Mean Stokes I\")\n",
    "ax[0].set_xlabel(\"RA\")\n",
    "ax[0].set_ylabel(\"Dec\")\n",
    "ax[0].colorbar = fig.colorbar(ax[0].images[0], ax=ax[0], orientation=\"horizontal\")\n",
    "ax[1].imshow(stokes_Q_mean, origin=\"lower\", cmap=\"RdBu_r\", norm=ImageNormalize(stokes_Q_mean, stretch=LinearStretch()))\n",
    "ax[1].set_title(\"Mean Stokes Q\")\n",
    "ax[1].set_xlabel(\"RA\")\n",
    "ax[1].set_ylabel(\"Dec\")\n",
    "ax[1].colorbar = fig.colorbar(ax[1].images[0], ax=ax[1], orientation=\"horizontal\")\n",
    "ax[2].imshow(stokes_U_mean, origin=\"lower\", cmap=\"RdBu_r\", norm=ImageNormalize(stokes_U_mean, stretch=LinearStretch()))\n",
    "ax[2].set_title(\"Mean Stokes U\")\n",
    "ax[2].set_xlabel(\"RA\")\n",
    "ax[2].set_ylabel(\"Dec\")\n",
    "ax[2].colorbar = fig.colorbar(ax[2].images[0], ax=ax[2], orientation=\"horizontal\")\n",
    "ax[3].imshow(pol_int_mean, origin=\"lower\", cmap=\"magma\", norm=ImageNormalize(pol_int_mean, stretch=LinearStretch()))\n",
    "ax[3].set_title(\"Mean Polarized intensity\")\n",
    "ax[3].set_xlabel(\"RA\")\n",
    "ax[3].set_ylabel(\"Dec\")\n",
    "ax[3].colorbar = fig.colorbar(ax[3].images[0], ax=ax[3], orientation=\"horizontal\")\n",
    "fig.tight_layout()\n"
   ]
  },
  {
   "cell_type": "markdown",
   "metadata": {},
   "source": [
    "# Run RM-Synth"
   ]
  },
  {
   "cell_type": "code",
   "execution_count": null,
   "metadata": {},
   "outputs": [],
   "source": [
    "# Check the arguments of run_rmsynth\n",
    "run_rmsynth?"
   ]
  },
  {
   "cell_type": "code",
   "execution_count": null,
   "metadata": {},
   "outputs": [],
   "source": [
    "# Run RM-synthesis\n",
    "FDFcube, phiArr_radm2, RMSFcube, phi2Arr_radm2, fwhmRMSFCube,fitStatArr, lam0Sq_m2, lambdaSqArr_m2 = run_rmsynth(\n",
    "    dataQ = data[\"Q\"][\"data\"],\n",
    "    dataU = data[\"U\"][\"data\"],\n",
    "    freqArr_Hz=data[\"I\"][\"wcs\"].spectral.pixel_to_world(np.arange(data[\"I\"][\"data\"].shape[0])).to(u.Hz).value,\n",
    "    phiMax_radm2=100,\n",
    "    verbose=True,\n",
    ")\n",
    "rmsf_unit = u.def_unit(\"RMSF\")\n",
    "FDFcube *= u.Unit(data[\"I\"][\"header\"][\"BUNIT\"]) / rmsf_unit\n",
    "fwhmRMSFCube *= u.rad / u.m**2\n",
    "phiArr_radm2 *= u.rad / u.m**2\n",
    "delta_phi = (phiArr_radm2[1] - phiArr_radm2[0]) / u.pix\n",
    "assert np.allclose(np.diff(phiArr_radm2)/u.pix, delta_phi)"
   ]
  },
  {
   "cell_type": "markdown",
   "metadata": {},
   "source": [
    "# Could also run the following on the command line\n",
    "```bash\n",
    "rmtools_freqfile POSSUM_M83/cutout-M83_I.fits POSSUM_M83/freqs.txt\n",
    "rmsynth3d POSSUM_M83/cutout-M83_Q.fits POSSUM_M83/cutout-M83_U.fits POSSUM_M83/freqs.txt -l 100 -v\n",
    "```"
   ]
  },
  {
   "cell_type": "code",
   "execution_count": null,
   "metadata": {},
   "outputs": [],
   "source": [
    "# Compute the Faraday moments with correct units\n",
    "pix_per_rmsf = (fwhmRMSFCube / delta_phi) / rmsf_unit\n",
    "FDF_per_pixel = (FDFcube / pix_per_rmsf)\n",
    "moment_0 = np.nansum(np.abs(FDF_per_pixel), axis=0) * 1* u.pixel\n",
    "moment_1 = np.nansum(np.abs(FDF_per_pixel) * phiArr_radm2[:,None,None], axis=0) * 1 * u.pixel / moment_0\n",
    "moment_2 = np.nansum(np.abs(FDF_per_pixel) * (phiArr_radm2[:,None,None] - moment_1)**2, axis=0) * 1 * u.pixel / moment_0"
   ]
  },
  {
   "cell_type": "code",
   "execution_count": null,
   "metadata": {},
   "outputs": [],
   "source": [
    "moment_0.unit"
   ]
  },
  {
   "cell_type": "code",
   "execution_count": null,
   "metadata": {},
   "outputs": [],
   "source": [
    "moment_1.unit"
   ]
  },
  {
   "cell_type": "code",
   "execution_count": null,
   "metadata": {},
   "outputs": [],
   "source": [
    "moment_2.unit"
   ]
  },
  {
   "cell_type": "markdown",
   "metadata": {},
   "source": [
    "Visualise the moments"
   ]
  },
  {
   "cell_type": "code",
   "execution_count": null,
   "metadata": {},
   "outputs": [],
   "source": [
    "# Plot the moments\n",
    "fig, ax = plt.subplots(1, 3, figsize=(15, 5), subplot_kw=dict(projection=data[\"I\"][\"wcs\"].celestial), sharex=True, sharey=True)\n",
    "ax[0].imshow(moment_0.value, origin=\"lower\", cmap=\"magma\", norm=ImageNormalize(stretch=SqrtStretch()))\n",
    "ax[0].set_title(\"Moment 0\")\n",
    "ax[0].set_xlabel(\"RA\")\n",
    "ax[0].set_ylabel(\"Dec\")\n",
    "ax[0].colorbar = fig.colorbar(ax[0].images[0], ax=ax[0], orientation=\"horizontal\")\n",
    "\n",
    "ax[1].imshow(moment_1.to(u.rad/u.m**2).value, origin=\"lower\", cmap=\"RdBu_r\", norm=ImageNormalize(stretch=LinearStretch()))\n",
    "ax[1].set_title(\"Moment 1\")\n",
    "ax[1].set_xlabel(\"RA\")\n",
    "ax[1].set_ylabel(\"Dec\")\n",
    "ax[1].colorbar = fig.colorbar(ax[1].images[0], ax=ax[1], orientation=\"horizontal\")\n",
    "\n",
    "ax[2].imshow(moment_2.to(u.rad**2/u.m**4).value, origin=\"lower\", cmap=\"magma\", norm=ImageNormalize(stretch=SqrtStretch()))\n",
    "ax[2].set_title(\"Moment 2\")\n",
    "ax[2].set_xlabel(\"RA\")\n",
    "ax[2].set_ylabel(\"Dec\")\n",
    "ax[2].colorbar = fig.colorbar(ax[2].images[0], ax=ax[2], orientation=\"horizontal\")\n"
   ]
  },
  {
   "cell_type": "markdown",
   "metadata": {},
   "source": [
    "# Further excerises:\n",
    "- Mask the the moment 1 and 2 maps to only show the regions where the moment 0 is above a noise threshold\n",
    "- Compute the fractional polarisation\n",
    "- Run the equivalent of the above on the commandline and read the input products into python\n",
    "- Run the equivalent of the above on the commandline and read the input products into CARTA"
   ]
  },
  {
   "cell_type": "markdown",
   "metadata": {},
   "source": [
    "# Now onto RM-CLEAN"
   ]
  },
  {
   "cell_type": "code",
   "execution_count": null,
   "metadata": {},
   "outputs": [],
   "source": [
    "# Check the arguments of run_rmclean\n",
    "do_rmclean_hogbom?"
   ]
  },
  {
   "cell_type": "code",
   "execution_count": null,
   "metadata": {},
   "outputs": [],
   "source": [
    "cleanFDF, ccArr, iterCountArr, residFDF = do_rmclean_hogbom(\n",
    "    dirtyFDF=FDFcube.value,\n",
    "    phiArr_radm2=phiArr_radm2.value,\n",
    "    RMSFArr=RMSFcube,\n",
    "    phi2Arr_radm2=phi2Arr_radm2,\n",
    "    fwhmRMSFArr=fwhmRMSFCube.value,\n",
    "    cutoff=0.0003,\n",
    "    verbose=True,\n",
    ")"
   ]
  },
  {
   "cell_type": "markdown",
   "metadata": {},
   "source": [
    "# Could also run the following on the command line\n",
    "```bash\n",
    "rmclean3d POSSUM_M83/FDF_dirty.fits POSSUM_M83/RMSF.fits -c 0.0003 -v\n",
    "```"
   ]
  },
  {
   "cell_type": "code",
   "execution_count": null,
   "metadata": {},
   "outputs": [],
   "source": [
    "fig, ax = plt.subplots(1, 1, figsize=(5, 5), subplot_kw=dict(projection=data[\"I\"][\"wcs\"].celestial), sharex=True, sharey=True)\n",
    "im = ax.imshow(iterCountArr, origin=\"lower\", norm=ImageNormalize(stretch=LinearStretch(), vmin=0, vmax=iterCountArr.max()))\n",
    "ax.set_title(\"Number of iterations\")\n",
    "ax.set_xlabel(\"RA\")\n",
    "ax.set_ylabel(\"Dec\")\n",
    "ax.colorbar = fig.colorbar(im, ax=ax, orientation=\"horizontal\")"
   ]
  },
  {
   "cell_type": "code",
   "execution_count": null,
   "metadata": {},
   "outputs": [],
   "source": [
    "# Compute moments of outputs\n",
    "cleanFDF *= u.Unit(data[\"I\"][\"header\"][\"BUNIT\"]) / rmsf_unit\n",
    "ccArr *= u.Unit(data[\"I\"][\"header\"][\"BUNIT\"]) / rmsf_unit\n",
    "FDF_per_pixel = (cleanFDF / pix_per_rmsf)\n",
    "ccArr_per_pixel = (ccArr / pix_per_rmsf)\n",
    "\n",
    "moment_0_clean = np.nansum(np.abs(FDF_per_pixel), axis=0) * 1* u.pixel\n",
    "moment_1_clean = np.nansum(np.abs(FDF_per_pixel) * phiArr_radm2[:,None,None], axis=0) * 1 * u.pixel / moment_0_clean\n",
    "moment_2_clean = np.nansum(np.abs(FDF_per_pixel) * (phiArr_radm2[:,None,None] - moment_1_clean)**2, axis=0) * 1 * u.pixel / moment_0_clean\n",
    "\n",
    "moment_0_cc = np.nansum(np.abs(ccArr_per_pixel), axis=0) * 1* u.pixel\n",
    "moment_1_cc = np.nansum(np.abs(ccArr_per_pixel) * phiArr_radm2[:,None,None], axis=0) * 1 * u.pixel / moment_0_cc\n",
    "moment_2_cc = np.nansum(np.abs(ccArr_per_pixel) * (phiArr_radm2[:,None,None] - moment_1_cc)**2, axis=0) * 1 * u.pixel / moment_0_cc\n"
   ]
  },
  {
   "cell_type": "code",
   "execution_count": null,
   "metadata": {},
   "outputs": [],
   "source": [
    "# Plot the moments\n",
    "fig, ax = plt.subplots(2, 3, figsize=(15, 10), subplot_kw=dict(projection=data[\"I\"][\"wcs\"].celestial), sharex=True, sharey=True)\n",
    "ax[0,0].imshow(moment_0_clean.value, origin=\"lower\", cmap=\"magma\", norm=ImageNormalize(stretch=SqrtStretch()))\n",
    "ax[0,0].set_title(\"Moment 0 (clean)\")\n",
    "ax[0,0].set_xlabel(\"RA\")\n",
    "ax[0,0].set_ylabel(\"Dec\")\n",
    "ax[0,0].colorbar = fig.colorbar(ax[0,0].images[0], ax=ax[0,0], orientation=\"horizontal\")\n",
    "\n",
    "ax[0,1].imshow(moment_1_clean.to(u.rad/u.m**2).value, origin=\"lower\", cmap=\"RdBu_r\", norm=ImageNormalize(stretch=LinearStretch()))\n",
    "ax[0,1].set_title(\"Moment 1 (clean)\")\n",
    "ax[0,1].set_xlabel(\"RA\")\n",
    "ax[0,1].set_ylabel(\"Dec\")\n",
    "ax[0,1].colorbar = fig.colorbar(ax[0,1].images[0], ax=ax[0,1], orientation=\"horizontal\")\n",
    "\n",
    "ax[0,2].imshow(moment_2_clean.to(u.rad**2/u.m**4).value, origin=\"lower\", cmap=\"magma\", norm=ImageNormalize(stretch=SqrtStretch()))\n",
    "ax[0,2].set_title(\"Moment 2 (clean)\")\n",
    "ax[0,2].set_xlabel(\"RA\")\n",
    "ax[0,2].set_ylabel(\"Dec\")\n",
    "ax[0,2].colorbar = fig.colorbar(ax[0,2].images[0], ax=ax[0,2], orientation=\"horizontal\")\n",
    "\n",
    "ax[1,0].imshow(moment_0_cc.value, origin=\"lower\", cmap=\"magma\", norm=ImageNormalize(stretch=SqrtStretch()))\n",
    "ax[1,0].set_title(\"Moment 0 (CC)\")\n",
    "ax[1,0].set_xlabel(\"RA\")\n",
    "ax[1,0].set_ylabel(\"Dec\")\n",
    "ax[1,0].colorbar = fig.colorbar(ax[1,0].images[0], ax=ax[1,0], orientation=\"horizontal\")\n",
    "\n",
    "ax[1,1].imshow(moment_1_cc.to(u.rad/u.m**2).value, origin=\"lower\", cmap=\"RdBu_r\", norm=ImageNormalize(stretch=LinearStretch()))\n",
    "ax[1,1].set_title(\"Moment 1 (CC)\")\n",
    "ax[1,1].set_xlabel(\"RA\")\n",
    "ax[1,1].set_ylabel(\"Dec\")\n",
    "ax[1,1].colorbar = fig.colorbar(ax[1,1].images[0], ax=ax[1,1], orientation=\"horizontal\")\n",
    "\n",
    "ax[1,2].imshow(moment_2_cc.to(u.rad**2/u.m**4).value, origin=\"lower\", cmap=\"magma\", norm=ImageNormalize(stretch=SqrtStretch()))\n",
    "ax[1,2].set_title(\"Moment 2 (CC)\")\n",
    "ax[1,2].set_xlabel(\"RA\")\n",
    "ax[1,2].set_ylabel(\"Dec\")\n",
    "ax[1,2].colorbar = fig.colorbar(ax[1,2].images[0], ax=ax[1,2], orientation=\"horizontal\")\n",
    "\n",
    "\n",
    "\n",
    "fig.tight_layout()\n",
    "\n"
   ]
  },
  {
   "cell_type": "markdown",
   "metadata": {},
   "source": [
    "# Further excerises:\n",
    "- Compute the appropriate cutoff level for RM-clean\n",
    "- Compare the CLEAN and Dirty spectra\n",
    "- Run the equivalent of the above on the commandline and read the input products into python\n",
    "- Run the equivalent of the above on the commandline and read the input products into CARTA"
   ]
  }
 ],
 "metadata": {
  "kernelspec": {
   "display_name": "base",
   "language": "python",
   "name": "python3"
  },
  "language_info": {
   "codemirror_mode": {
    "name": "ipython",
    "version": 3
   },
   "file_extension": ".py",
   "mimetype": "text/x-python",
   "name": "python",
   "nbconvert_exporter": "python",
   "pygments_lexer": "ipython3",
   "version": "3.10.13"
  }
 },
 "nbformat": 4,
 "nbformat_minor": 2
}
